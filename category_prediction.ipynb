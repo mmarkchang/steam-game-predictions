{
 "cells": [
  {
   "cell_type": "code",
   "execution_count": 1,
   "metadata": {},
   "outputs": [],
   "source": [
    "import numpy as np\n",
    "import pandas as pd\n",
    "import json\n",
    "import gzip\n",
    "import ast\n",
    "import matplotlib.pyplot as plt\n",
    "import string\n",
    "\n",
    "from urllib.request import urlopen\n",
    "from sklearn import linear_model\n",
    "from sklearn.model_selection import train_test_split\n",
    "from sklearn.metrics import accuracy_score\n",
    "from collections import defaultdict\n",
    "from random import sample \n",
    "from scipy.sparse import lil_matrix\n",
    "from nltk.stem.porter import *\n",
    "from collections import Counter\n",
    "import nltk\n",
    "from nltk.corpus import stopwords \n",
    "from collections import defaultdict"
   ]
  },
  {
   "cell_type": "code",
   "execution_count": 11,
   "metadata": {},
   "outputs": [],
   "source": [
    "def parseDataFromFile(fname):\n",
    "    for l in open(fname):\n",
    "        yield ast.literal_eval(l)\n",
    "\n",
    "data = list(parseDataFromFile(\"train_Category.json\"))\n",
    "train_data = data[:165000]\n",
    "val_data = data[165000:165000 + 10000]\n",
    "\n",
    "wordCount = Counter()\n",
    "totalWords = 0\n",
    "\n",
    "punct = string.punctuation\n",
    "stop_words = set(stopwords.words('english'))\n",
    "\n",
    "for d in train_data:\n",
    "    t = d['text']\n",
    "    t = t.lower() # lowercase string\n",
    "\n",
    "\n",
    "    t = t.translate(str.maketrans('', '', string.punctuation))\n",
    "    t = ''.join(t) # convert back to string\n",
    "    words = t.strip().split() # tokenizes\n",
    "    for w in words:\n",
    "        totalWords += 1\n",
    "        wordCount[w] += 1\n",
    "\n",
    "words = wordCount.most_common(17000)\n",
    "words = [x[0] for x in words if x[0] not in stopwords.words('english')]\n",
    "wordId = dict(zip(words, range(len(words))))\n",
    "\n",
    "counts = [(wordCount[w], w) for w in wordCount]"
   ]
  },
  {
   "cell_type": "code",
   "execution_count": 16,
   "metadata": {},
   "outputs": [],
   "source": [
    "def feature(datum):\n",
    "    feat = [0]*len(words)\n",
    "    r = ''.join([c for c in datum['text'].lower() if not c in punct])\n",
    "    for w in r.split():\n",
    "        if w in words:\n",
    "\n",
    "            feat[wordId[w]] += 1\n",
    "\n",
    "\n",
    "    feat.append(1) #offset\n",
    "    return feat"
   ]
  },
  {
   "cell_type": "code",
   "execution_count": 17,
   "metadata": {},
   "outputs": [],
   "source": [
    "X_train = lil_matrix([feature(d) for d in train_data])\n",
    "y_train = [x['genreID'] for x in train_data]"
   ]
  },
  {
   "cell_type": "code",
   "execution_count": null,
   "metadata": {},
   "outputs": [],
   "source": [
    "X_val = lil_matrix([feature(d) for d in val_data])\n",
    "y_val = [x['genreID'] for x in val_data]"
   ]
  },
  {
   "cell_type": "code",
   "execution_count": null,
   "metadata": {},
   "outputs": [],
   "source": [
    "mod = linear_model.LogisticRegression(C=10000)\n",
    "mod.fit(X_train, y_train)\n",
    "\n",
    "pred = mod.predict(X_val)\n",
    "accuracy_score(pred, y_val)"
   ]
  },
  {
   "cell_type": "code",
   "execution_count": 21,
   "metadata": {},
   "outputs": [],
   "source": [
    "### kaggle stuff\n",
    "test_data = list(parseDataFromFile(\"test_Category.json\"))\n",
    "\n",
    "X_test = [feature(d) for d in test_data]\n",
    "X_test = lil_matrix(X_test)\n",
    "\n",
    "pred_kaggle = mod.predict(X_test)"
   ]
  },
  {
   "cell_type": "code",
   "execution_count": 22,
   "metadata": {},
   "outputs": [],
   "source": [
    "predictions = open(\"predictions_Category.txt\", 'w')\n",
    "predictions.write('userID-reviewID,prediction\\n')\n",
    "\n",
    "for i in range(len(test_data)):\n",
    "    u,g = test_data[i]['userID'], test_data[i]['reviewID']\n",
    "\n",
    "    predictions.write(u + '-' + g + \",\" + str(pred_kaggle[i]) + \"\\n\")\n",
    "\n",
    "\n",
    "predictions.close()"
   ]
  },
  {
   "cell_type": "code",
   "execution_count": null,
   "metadata": {},
   "outputs": [],
   "source": []
  }
 ],
 "metadata": {
  "kernelspec": {
   "display_name": "Python 3",
   "language": "python",
   "name": "python3"
  },
  "language_info": {
   "codemirror_mode": {
    "name": "ipython",
    "version": 3
   },
   "file_extension": ".py",
   "mimetype": "text/x-python",
   "name": "python",
   "nbconvert_exporter": "python",
   "pygments_lexer": "ipython3",
   "version": "3.8.5"
  }
 },
 "nbformat": 4,
 "nbformat_minor": 4
}
