{
 "cells": [
  {
   "cell_type": "code",
   "execution_count": null,
   "metadata": {},
   "outputs": [],
   "source": [
    "import numpy as np\n",
    "import pandas as pd\n",
    "import json\n",
    "import gzip\n",
    "import ast\n",
    "import matplotlib.pyplot as plt\n",
    "\n",
    "from urllib.request import urlopen\n",
    "from sklearn import linear_model\n",
    "from sklearn.model_selection import train_test_split\n",
    "from sklearn.metrics import accuracy_score\n",
    "from collections import defaultdict\n",
    "from random import sample \n",
    "from scipy.sparse import lil_matrix\n",
    "from collections import Counter"
   ]
  },
  {
   "cell_type": "code",
   "execution_count": null,
   "metadata": {},
   "outputs": [],
   "source": [
    "def readJSON(path):\n",
    "    for l in gzip.open(path, 'rt'):\n",
    "        d = eval(l)\n",
    "        u = d['userID']\n",
    "        try:\n",
    "            g = d['gameID']\n",
    "        except Exception as e:\n",
    "            g = None\n",
    "        yield u,g,d\n",
    "\n",
    "gameCount = Counter()\n",
    "\n",
    "for user,game,_ in readJSON(\"train.json.gz\"):\n",
    "    gameCount[game] += 1\n"
   ]
  },
  {
   "cell_type": "code",
   "execution_count": null,
   "metadata": {},
   "outputs": [],
   "source": [
    "return1 = [x[0] for x in gameCount.most_common(200)]"
   ]
  },
  {
   "cell_type": "code",
   "execution_count": null,
   "metadata": {},
   "outputs": [],
   "source": [
    "def parseDataFromFile(fname):\n",
    "    for l in open(fname):\n",
    "    #yield eval(l)\n",
    "        yield ast.literal_eval(l)\n",
    "\n",
    "data = list(parseDataFromFile(\"train.json\"))\n",
    "train_data = data[:165000]\n",
    "test_data = data[165000:]\n",
    "\n",
    "user_dict = defaultdict(list) # games played by user\n",
    "game_dict = defaultdict(list) # users who played game\n",
    "game_set = set()\n",
    "\n",
    "for row in train_data:\n",
    "    user_dict[row['userID']].append(row['gameID'])\n",
    "    game_dict[row['gameID']].append(row['userID'])\n",
    "    game_set.add(row['gameID'])\n",
    "    \n",
    "positives = [[x['userID'], x['gameID'], 1] for x in test_data]\n",
    "\n",
    "negatives = []\n",
    "\n",
    "for row in test_data:\n",
    "    not_played = [x for x in game_set if x not in user_dict[row['userID']]]\n",
    "    negatives.append([row['userID'], sample(not_played, 1)[0], 0])\n",
    "\n",
    "X_val = positives + negatives\n",
    "y_val = [x[2] for x in X_val]"
   ]
  },
  {
   "cell_type": "code",
   "execution_count": null,
   "metadata": {},
   "outputs": [],
   "source": [
    "def Jaccard(s1, s2):\n",
    "    s1 = set(s1)\n",
    "    s2 = set(s2)\n",
    "    numer = len(s1.intersection(s2))\n",
    "    denom = len(s1.union(s2))\n",
    "    return numer / denom"
   ]
  },
  {
   "cell_type": "code",
   "execution_count": null,
   "metadata": {},
   "outputs": [],
   "source": [
    "def predictPlayed(user,game):\n",
    "    similarities = []\n",
    "    for g in user_dict[user]:\n",
    "        if g == game: continue\n",
    "        similarities.append(Jaccard(game_dict[game],game_dict[g]))\n",
    "    if len(similarities) == 0:\n",
    "        return 0\n",
    "    if (np.mean(similarities) > .009):\n",
    "        return 1\n",
    "    else:\n",
    "        # User hasn't rated any similar items\n",
    "        return 0"
   ]
  },
  {
   "cell_type": "code",
   "execution_count": null,
   "metadata": {},
   "outputs": [],
   "source": [
    "pred_list = []\n",
    "for l in X_val:\n",
    "    u,g = l[0], l[1]\n",
    "    \n",
    "    pred_list.append(predictPlayed(u,g))\n"
   ]
  },
  {
   "cell_type": "code",
   "execution_count": null,
   "metadata": {},
   "outputs": [],
   "source": [
    "TP_ = np.logical_and(pred_list, y_val)\n",
    "FP_ = np.logical_and(pred_list, np.logical_not(y_val))\n",
    "TN_ = np.logical_and(np.logical_not(pred_list), np.logical_not(y_val))\n",
    "FN_ = np.logical_and(np.logical_not(pred_list), y_val)\n",
    "TP = sum(TP_)\n",
    "FP = sum(FP_)\n",
    "TN = sum(TN_)\n",
    "FN = sum(FN_)\n",
    "print(TP)\n",
    "print(FP)\n",
    "print(TN)\n",
    "print(FN)"
   ]
  },
  {
   "cell_type": "code",
   "execution_count": null,
   "metadata": {},
   "outputs": [],
   "source": [
    "accuracy_score(pred_list, y_val)"
   ]
  },
  {
   "cell_type": "code",
   "execution_count": null,
   "metadata": {},
   "outputs": [],
   "source": [
    "### kaggle stuff below\n",
    "X_test = []\n",
    "\n",
    "f = open(\"pairs_Played.txt\", \"r\")\n",
    "f.readline()\n",
    "for x in f:\n",
    "    split = x.strip('\\n').split('-')\n",
    "    X_test.append(split)"
   ]
  },
  {
   "cell_type": "code",
   "execution_count": null,
   "metadata": {},
   "outputs": [],
   "source": [
    "predictions = open(\"predictions_Played.txt\", 'w')\n",
    "predictions.write('userID-gameID,prediction\\n')\n",
    "\n",
    "for i in range(len(X_test)):\n",
    "    u,g = X_test[i][0], X_test[i][1]\n",
    "\n",
    "    if pred_kaggle[i] == 1:\n",
    "        predictions.write(u + '-' + g + \",\" + str(predictPlayed(u,g)) + \"\\n\")\n",
    "\n",
    "    else:\n",
    "        predictions.write(u + '-' + g + \",\" + str(predictPlayed(u,g)) + \"\\n\")\n",
    "\n",
    "\n",
    "predictions.close()"
   ]
  },
  {
   "cell_type": "code",
   "execution_count": null,
   "metadata": {},
   "outputs": [],
   "source": []
  }
 ],
 "metadata": {
  "kernelspec": {
   "display_name": "Python 3",
   "language": "python",
   "name": "python3"
  },
  "language_info": {
   "codemirror_mode": {
    "name": "ipython",
    "version": 3
   },
   "file_extension": ".py",
   "mimetype": "text/x-python",
   "name": "python",
   "nbconvert_exporter": "python",
   "pygments_lexer": "ipython3",
   "version": "3.8.5"
  }
 },
 "nbformat": 4,
 "nbformat_minor": 4
}
